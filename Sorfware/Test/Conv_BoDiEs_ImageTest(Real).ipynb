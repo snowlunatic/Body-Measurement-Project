{
 "cells": [
  {
   "cell_type": "markdown",
   "metadata": {},
   "source": [
    "# Conv_BoDiEs 실제 이미지 시험"
   ]
  },
  {
   "cell_type": "markdown",
   "metadata": {},
   "source": [
    "## 1. 라이브러리 import 및 GPU 연결결"
   ]
  },
  {
   "cell_type": "code",
   "execution_count": null,
   "metadata": {},
   "outputs": [],
   "source": [
    "import csv\n",
    "import torch\n",
    "import os\n",
    "from torchvision import transforms\n",
    "from PIL import Image\n",
    "from pathlib import Path\n",
    "import torch.nn as nn\n",
    "\n",
    "# Get CPU or GPU device for training\n",
    "device = \"cuda\" if torch.cuda.is_available() else \"cpu\"\n",
    "print(f\"Using {device} device\")\n",
    "if torch.cuda.is_available():\n",
    "    print(f'Device name: {torch.cuda.get_device_name(0)}')"
   ]
  },
  {
   "cell_type": "markdown",
   "metadata": {},
   "source": [
    "## 2. 모델 정의"
   ]
  },
  {
   "cell_type": "code",
   "execution_count": null,
   "metadata": {},
   "outputs": [],
   "source": [
    "# 모델 정의\n",
    "class Conv_BoDiEs(nn.Module):\n",
    "    def __init__(self):\n",
    "        super(Conv_BoDiEs, self).__init__()\n",
    "\n",
    "        self.conv1 = nn.Sequential(\n",
    "            nn.Conv2d(1, 256, kernel_size=5, padding=2),\n",
    "            nn.ReLU(),\n",
    "            nn.MaxPool2d(kernel_size=2, stride=2)\n",
    "        )\n",
    "\n",
    "        self.conv2 = nn.Sequential(\n",
    "            nn.Conv2d(256, 128, kernel_size=5, padding=2),\n",
    "            nn.ReLU(),\n",
    "            nn.MaxPool2d(kernel_size=2, stride=2)\n",
    "        )\n",
    "\n",
    "        self.conv3 = nn.Sequential(\n",
    "            nn.Conv2d(128, 64, kernel_size=5, padding=2),\n",
    "            nn.ReLU(),\n",
    "            nn.MaxPool2d(kernel_size=2, stride=2)\n",
    "        )\n",
    "\n",
    "        self.conv4 = nn.Sequential(\n",
    "            nn.Conv2d(64, 32, kernel_size=3, padding=1),\n",
    "            nn.ReLU(),\n",
    "            nn.MaxPool2d(kernel_size=2, stride=2)\n",
    "        )\n",
    "\n",
    "        self.flatten = nn.Flatten()\n",
    "\n",
    "        # Input size is (b, 32, 12, 12) after conv4 and maxpool\n",
    "        flattened_size = 32 * 12 * 12\n",
    "\n",
    "        self.fc1 = nn.Sequential(\n",
    "            nn.Linear(flattened_size, 128),\n",
    "            nn.ReLU()\n",
    "        )\n",
    "\n",
    "        self.fc2 = nn.Linear(128, 16)\n",
    "\n",
    "    def forward(self, x):\n",
    "        x = self.conv1(x)\n",
    "        x = self.conv2(x)\n",
    "        x = self.conv3(x)\n",
    "        x = self.conv4(x)\n",
    "        x = self.flatten(x)\n",
    "        x = self.fc1(x)\n",
    "        x = self.fc2(x)\n",
    "        return x\n",
    "\n",
    "model = Conv_BoDiEs().to(device)\n"
   ]
  },
  {
   "cell_type": "markdown",
   "metadata": {},
   "source": [
    "## 3. 라벨정의 및 이미지 전처리리"
   ]
  },
  {
   "cell_type": "code",
   "execution_count": null,
   "metadata": {},
   "outputs": [],
   "source": [
    "# 신체 부위 라벨 지정 / 순서 매우 중요요\n",
    "body_parts = [\n",
    "    \"chest circ\", \"waist circ\", \"pelvis circ\", \"neck circ\", \"bicep circ\", \n",
    "    \"thigh circ\", \"knee circ\", \"arm length\", \"leg length\", \"calf length\", \n",
    "    \"head circ\", \"wrist circ\", \"arm span\", \"shoulders width\", \"torso length\", \n",
    "    \"inner leg\"\n",
    "]\n",
    "\n",
    "# 시험 이미지 경로 지정정\n",
    "image_path = 'real_test_image_original/test_200/3rd_try/black_background535.jpg'\n",
    "\n",
    "model_path = 'bodymodel/male/Conv_BoDiEs_male_grayscale.pth'\n",
    "result_file_path = 'result/real_gray_scale/T_200_try3_B_535.csv'\n",
    "\n",
    "# 이미지 전처리 정의\n",
    "transform = transforms.Compose([\n",
    "    transforms.Resize((200, 200)),\n",
    "    transforms.ToTensor()\n",
    "])\n",
    "\n",
    "# 단일 이미지 전처리\n",
    "def preprocess_image(image_path):\n",
    "    image = Image.open(image_path).convert('L')  # Grayscale 변환\n",
    "    image = transform(image)\n",
    "    image = image.unsqueeze(0)  # 배치 차원 추가\n",
    "    return image\n",
    "\n",
    "# 이미지 전처리\n",
    "input_image = preprocess_image(image_path).to(device)"
   ]
  },
  {
   "cell_type": "markdown",
   "metadata": {},
   "source": [
    "## 4. 이미지에 대한 예측 값 출력 및 저장장"
   ]
  },
  {
   "cell_type": "code",
   "execution_count": null,
   "metadata": {},
   "outputs": [],
   "source": [
    "# 모델 평가 모드 설정 및 예측 수행\n",
    "model.load_state_dict(torch.load(model_path))\n",
    "model.eval()\n",
    "with torch.no_grad():\n",
    "    output = model(input_image)\n",
    "\n",
    "# 예측 값 가져오기\n",
    "predicted_values = output.cpu().numpy()[0]  # 16개의 예측 값\n",
    "\n",
    "# 결과 출력\n",
    "print(f'Prediction for the image: {predicted_values}')\n",
    "\n",
    "# 결과 저장 경로 생성 (필요시)\n",
    "Path(result_file_path).parent.mkdir(parents=True, exist_ok=True)\n",
    "\n",
    "# CSV 파일로 결과 저장\n",
    "with open(result_file_path, mode='w', newline='') as file:\n",
    "    writer = csv.writer(file)\n",
    "\n",
    "    # 첫 번째 행: 헤더\n",
    "    writer.writerow(['Body Part', 'Prediction'])\n",
    "\n",
    "    # 두 번째 행부터: 각 부위와 값\n",
    "    for body_part, value in zip(body_parts, predicted_values):\n",
    "        writer.writerow([body_part, value])\n",
    "\n",
    "print(f'Result saved to {result_file_path}')"
   ]
  }
 ],
 "metadata": {
  "accelerator": "GPU",
  "colab": {
   "authorship_tag": "ABX9TyN24lo+mOATRBpE1wNDASxu",
   "gpuType": "T4",
   "provenance": []
  },
  "kernelspec": {
   "display_name": "Python 3",
   "name": "python3"
  },
  "language_info": {
   "name": "python"
  }
 },
 "nbformat": 4,
 "nbformat_minor": 0
}
